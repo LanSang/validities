{
 "cells": [
  {
   "cell_type": "code",
   "execution_count": 1,
   "id": "46953a9a",
   "metadata": {},
   "outputs": [],
   "source": [
    "import pandas as pd\n",
    "import numpy as np\n",
    "import sklearn"
   ]
  },
  {
   "cell_type": "code",
   "execution_count": 2,
   "id": "d9f861f0",
   "metadata": {},
   "outputs": [],
   "source": [
    "#Merge files\n",
    "def mergeFile(file1, file2):\n",
    "    df=pd.concat(\n",
    "    map(pd.read_csv, [file1, file2]), ignore_index=True)\n",
    "    return df\n",
    "\n",
    "df=mergeFile('Batch_4979747_batch_results.csv', 'Batch_4986878_batch_results.csv')"
   ]
  },
  {
   "cell_type": "code",
   "execution_count": 3,
   "id": "043c13c3",
   "metadata": {},
   "outputs": [],
   "source": [
    "df.fillna('nan', inplace=True)"
   ]
  },
  {
   "cell_type": "code",
   "execution_count": 5,
   "id": "db6cae86",
   "metadata": {},
   "outputs": [],
   "source": [
    "#Data rows for rater_1\n",
    "data_rater_1= pd.DataFrame(df[::2])"
   ]
  },
  {
   "cell_type": "code",
   "execution_count": 6,
   "id": "f766cfdf",
   "metadata": {},
   "outputs": [],
   "source": [
    "#Data rows for rater_2\n",
    "data_rater_2 = pd.DataFrame(df[1::2])"
   ]
  },
  {
   "cell_type": "code",
   "execution_count": 7,
   "id": "fd819a11",
   "metadata": {},
   "outputs": [],
   "source": [
    "rater1_product1=data_rater_1['Answer.product1']\n",
    "rater1_product2=data_rater_1['Answer.product2']\n",
    "rater1_product3=data_rater_1['Answer.product3']"
   ]
  },
  {
   "cell_type": "code",
   "execution_count": 8,
   "id": "dd5d92c9",
   "metadata": {},
   "outputs": [],
   "source": [
    "rater2_product1=data_rater_2['Answer.product1']\n",
    "rater2_product2=data_rater_2['Answer.product2']\n",
    "rater2_product3=data_rater_2['Answer.product3']"
   ]
  },
  {
   "cell_type": "code",
   "execution_count": 9,
   "id": "1e63f4d1",
   "metadata": {},
   "outputs": [],
   "source": [
    "#Get the list of rater_1's annotation\n",
    "rater1_p1_list = list(rater1_product1)\n",
    "rater1_p2_list = list(rater1_product2)\n",
    "rater1_p3_list = list(rater1_product3)"
   ]
  },
  {
   "cell_type": "code",
   "execution_count": 10,
   "id": "1497eb55",
   "metadata": {},
   "outputs": [],
   "source": [
    "#Get the list of rater_2's annotation\n",
    "rater2_p1_list = list(rater2_product1)\n",
    "rater2_p2_list = list(rater2_product2)\n",
    "rater2_p3_list = list(rater2_product3)"
   ]
  },
  {
   "cell_type": "code",
   "execution_count": 22,
   "id": "c2b047a7",
   "metadata": {},
   "outputs": [],
   "source": [
    "#Convert rater_1's annotation to lists of integers(1 or 0)\n",
    "def rater_1(i):\n",
    "    result=[]\n",
    "    word1=rater1_p1_list[i].split()\n",
    "    word2=rater1_p1_list[i].split()\n",
    "    word3=rater1_p1_list[i].split()\n",
    "    sentence=list(data_rater_1['Texts'])[i].split()\n",
    "    for i in range(len(word1)):\n",
    "        for j in range(len(sentence)):\n",
    "            if word1[i]==sentence[j]:\n",
    "                sentence[j]='1'\n",
    "    \n",
    "    for i in range(len(word2)):\n",
    "        for j in range(len(sentence)):\n",
    "            if word2[i]==sentence[j]:\n",
    "                sentence[j]='1'\n",
    "    \n",
    "    for i in range(len(word3)):\n",
    "        for j in range(len(sentence)):\n",
    "            if word3[i]==sentence[j]:\n",
    "                sentence[j]='1'\n",
    "    \n",
    "    for i in range(len(sentence)):\n",
    "        if sentence[i] != '1':\n",
    "            sentence[i]='0'\n",
    "    return sentence"
   ]
  },
  {
   "cell_type": "code",
   "execution_count": 23,
   "id": "8de52b76",
   "metadata": {},
   "outputs": [],
   "source": [
    "#Convert rater_2's annotation to lists of integers(1 or 0)\n",
    "def rater_2(i):\n",
    "    result=[]\n",
    "    word1=rater2_p1_list[i].split()\n",
    "    word2=rater2_p2_list[i].split()\n",
    "    word3=rater2_p3_list[i].split()\n",
    "    sentence=list(data_rater_2['Texts'])[i].split()\n",
    "    for i in range(len(word1)):\n",
    "        for j in range(len(sentence)):\n",
    "            if word1[i]==sentence[j]:\n",
    "                sentence[j]='1'\n",
    "    \n",
    "    for i in range(len(word2)):\n",
    "        for j in range(len(sentence)):\n",
    "            if word2[i]==sentence[j]:\n",
    "                sentence[j]='1'\n",
    "    \n",
    "    for i in range(len(word3)):\n",
    "        for j in range(len(sentence)):\n",
    "            if word3[i]==sentence[j]:\n",
    "                sentence[j]='1'\n",
    "    \n",
    "    for i in range(len(sentence)):\n",
    "        if sentence[i] != '1':\n",
    "            sentence[i]='0'\n",
    "    return sentence"
   ]
  },
  {
   "cell_type": "code",
   "execution_count": 30,
   "id": "ac5d5784",
   "metadata": {},
   "outputs": [],
   "source": [
    "#Calculate the irr for each pair of annotations using pairwise F-1: F=2a/(2a+b+c)\n",
    "def pairwise_rater1_gold(j):\n",
    "    a=0\n",
    "    b=0\n",
    "    c=0\n",
    "    for i in range(len(rater_1(j))):\n",
    "        if int(rater_1(j)[i])==int(rater_2(j)[i])==1:\n",
    "            a=a+1\n",
    "        if int(rater_1(j)[i]) ==1 and int(rater_2(j)[i])==0:\n",
    "            b=b+1\n",
    "        if int(rater_1(j)[i]) ==0 and int(rater_2(j)[i])==1:\n",
    "            c=c+1\n",
    "        if a==b==c==0:\n",
    "            pairwise=0.0\n",
    "        else:\n",
    "            pairwise=(2*a)/((2*a)+b+c)\n",
    "    return pairwise"
   ]
  },
  {
   "cell_type": "code",
   "execution_count": 57,
   "id": "afe44b7d",
   "metadata": {},
   "outputs": [],
   "source": [
    "#Compute the average irr for the whole input dataset\n",
    "def pairwise_all(data):\n",
    "    value=[]\n",
    "    input_data=pd.DataFrame(data[::2])\n",
    "    for i in range(len(input_data)):\n",
    "        result=pairwise_rater1_gold(i)\n",
    "        value.append(result)\n",
    "        pairwise_ave=sum(value)/len(input_data)\n",
    "    return (pairwise_ave)"
   ]
  },
  {
   "cell_type": "code",
   "execution_count": 59,
   "id": "71068468",
   "metadata": {},
   "outputs": [
    {
     "name": "stdout",
     "output_type": "stream",
     "text": [
      "The inter-rater reliability of the input data file is: 0.4105263157894737\n"
     ]
    }
   ],
   "source": [
    "#The inter-rater reliability for the input data files using pairwise method\n",
    "print('The inter-rater reliability of the input data file is:', pairwise_all(df))"
   ]
  },
  {
   "cell_type": "code",
   "execution_count": 64,
   "id": "253e0f30",
   "metadata": {},
   "outputs": [],
   "source": [
    "#This function shows a list of irr values for each pair in the dataset\n",
    "def list_of_irr(data):\n",
    "    value=[]\n",
    "    input_data=pd.DataFrame(data[::2])\n",
    "    for i in range(len(input_data)):\n",
    "        result=pairwise_rater1_gold(i)\n",
    "        value.append(result)\n",
    "    return value"
   ]
  },
  {
   "cell_type": "code",
   "execution_count": 66,
   "id": "33c9abfd",
   "metadata": {},
   "outputs": [
    {
     "data": {
      "text/plain": [
       "[1.0,\n",
       " 0.0,\n",
       " 1.0,\n",
       " 1.0,\n",
       " 1.0,\n",
       " 0.0,\n",
       " 0.0,\n",
       " 0.0,\n",
       " 1.0,\n",
       " 1.0,\n",
       " 0.8,\n",
       " 0.0,\n",
       " 0.0,\n",
       " 0.0,\n",
       " 0.0,\n",
       " 0.0,\n",
       " 1.0,\n",
       " 0.0,\n",
       " 0.0]"
      ]
     },
     "execution_count": 66,
     "metadata": {},
     "output_type": "execute_result"
    }
   ],
   "source": [
    "#The irr values for each pair in our input dataset\n",
    "list_of_irr(df)"
   ]
  },
  {
   "cell_type": "code",
   "execution_count": null,
   "id": "b5a9dd7b",
   "metadata": {},
   "outputs": [],
   "source": []
  }
 ],
 "metadata": {
  "kernelspec": {
   "display_name": "Python 3",
   "language": "python",
   "name": "python3"
  },
  "language_info": {
   "codemirror_mode": {
    "name": "ipython",
    "version": 3
   },
   "file_extension": ".py",
   "mimetype": "text/x-python",
   "name": "python",
   "nbconvert_exporter": "python",
   "pygments_lexer": "ipython3",
   "version": "3.7.5"
  }
 },
 "nbformat": 4,
 "nbformat_minor": 5
}
